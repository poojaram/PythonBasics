{
 "cells": [
  {
   "cell_type": "markdown",
   "metadata": {},
   "source": [
    "# Web scraping\n",
    "A common data collection task is to collect data from web pages and transform them into an analysis ready format. In this exercise, you'll be scraping the [Informatics Course Information](https://www.washington.edu/students/crscat/info.html) page to ask some basic questions about the courses offered. To do so, we'll be using the [beautiful soup](https://www.crummy.com/software/BeautifulSoup/bs4/doc/) package, which should have been included as part of the Anaconda python distribtuion. A great starting place for understanding the package is [this tutorial](https://www.dataquest.io/blog/web-scraping-tutorial-python/)."
   ]
  },
  {
   "cell_type": "markdown",
   "metadata": {},
   "source": [
    "## Set up\n",
    "In order to use packages in a script (that are downloaded as part of the Anaconda distribution), you will need to `import` them. There are a variety of approaches for importing packages: you can import an entire package, or import only some of its functions. It's common to import a package as an abbreviation for easier use with this syntax:\n",
    "\n",
    "```\n",
    "# Import a package as an abbreviation\n",
    "import requests as r\n",
    "\n",
    "# Only import some functions (as abbreviations)\n",
    "from bs4 import BeautifulSoup as bs, SoupStrainer as ss\n",
    "```"
   ]
  },
  {
   "cell_type": "code",
   "execution_count": 45,
   "metadata": {},
   "outputs": [],
   "source": [
    "# Import the `requests` and `BeautifulSoup` packages using the code above\n",
    "import requests as r\n",
    "from bs4 import BeautifulSoup as bs, SoupStrainer as ss"
   ]
  },
  {
   "cell_type": "markdown",
   "metadata": {},
   "source": [
    "## Scraping Content"
   ]
  },
  {
   "cell_type": "code",
   "execution_count": 46,
   "metadata": {},
   "outputs": [],
   "source": [
    "# Use the `get` method of the requests library to fetch the page content\n",
    "content = r.get(\"https://www.washington.edu/students/crscat/info.html\").content\n",
    "# Tells if the package was successfully loaded or not 200 means success YAY\n",
    "# Status code starting with 4 or 5 means error and 2 means good\n",
    "# page.status_code\n",
    "# print content\n",
    "# page.content\n",
    "# We can also do .get.content\n"
   ]
  },
  {
   "cell_type": "code",
   "execution_count": 47,
   "metadata": {},
   "outputs": [],
   "source": [
    "# Use bs to parse the HTML returned\n",
    "soup = bs(content, 'html.parser')\n",
    "# print what we parsed\n",
    "#print(soup.prettify())"
   ]
  },
  {
   "cell_type": "code",
   "execution_count": 48,
   "metadata": {},
   "outputs": [],
   "source": [
    "# We can now use the `find_all` method to find all course title elements\n",
    "# Store the *text* of the course titles in variable\n",
    "# Hint: You'll need to review the HTML to figure out how to identify them\n",
    "# Hint: use a list comprehension!\n",
    "\n",
    "# We can first select all the elements at the top level of the page using the children property of soup. \n",
    "# children generates list so we need to call list function\n",
    "# list(parse.children)\n",
    "\n",
    "# look up type for each child\n",
    "# [type(item) for item in list(parse.children)]\n",
    "\n",
    "title_objects = soup.findAll(\"b\")\n",
    "\n",
    "tit = title_objects[0]\n",
    "# Just the string value corresponding the object\n",
    "tit.text\n",
    "# As a loop or in a list\n",
    "# Another way to do it -----> titles = [obj.text for obj in title_objects]\n",
    "titles = []\n",
    "for obj in title_objects:\n",
    "    titles.append(obj.text)\n",
    "#titles"
   ]
  },
  {
   "cell_type": "code",
   "execution_count": 49,
   "metadata": {},
   "outputs": [],
   "source": [
    "# We can now use the `find_all` method to find all course description elements\n",
    "# Store the *text* of the course description in variable\n",
    "# Hint: You'll need to review the HTML to figure out how to identify them\n",
    "# Hint: you may have to skip certain elements...\n",
    "desc_objects = soup.find_all('a')\n",
    "\n",
    "descriptions = []\n",
    "for i in range(1, 10):\n",
    "  descriptions.append(desc_objects[i*10 + 1].text)\n",
    "\n",
    "# print(descriptions)\n",
    "\n"
   ]
  },
  {
   "cell_type": "code",
   "execution_count": null,
   "metadata": {},
   "outputs": [],
   "source": []
  },
  {
   "cell_type": "markdown",
   "metadata": {},
   "source": [
    "## Data processing\n",
    "Now that you have the data, we'll re-structure it so that we can easily ask questions about the data"
   ]
  },
  {
   "cell_type": "code",
   "execution_count": 50,
   "metadata": {},
   "outputs": [
    {
     "data": {
      "text/plain": [
       "{'101 ': {'title': 'INFO 102 Gender and Information Technology (5) I&S, DIV',\n",
       "  'description': 'INFO 201 Technical Foundations (5) QSRIntroduces fundamental tools and technologies necessary to transform data into knowledge. Covers the full information lifecycle, including the collection, storage, analysis and visualization of data. Core competencies underlying this process, including functional programming, use of databases, data wrangling, version control, and command line proficiency, are acquired through real-world data-driven challenges.View course details in MyPlan: INFO 201',\n",
       "  'credits': '5',\n",
       "  'level': 100,\n",
       "  'meets_requirements': 'I&S, DIV'},\n",
       " '102 ': {'title': 'INFO 180 Introduction to Data Science (4) QSR',\n",
       "  'description': 'INFO 314 Computer Networks and Distributed Applications (5) NWBasic concepts of local and wide-area computer networking including an overview of services provided by networks, network topologies and hardware, packet switching, client/server architectures, network protocols, and network servers and applications. Also addresses management, security, authentication, and policy issues associated with distributed systems. Prerequisite: CSE 142 or CSE 143.View course details in MyPlan: INFO 314',\n",
       "  'credits': '4',\n",
       "  'level': 100,\n",
       "  'meets_requirements': 'QSR'},\n",
       " '180 ': {'title': 'INFO 198 Exploring Informatics (1-5, max. 15)',\n",
       "  'description': 'INFO 350 Information Ethics and Policy (5) I&SProvides a framework for analyzing the ethical, legal, economic, and socio-political issues surrounding information, information technologies, and the information industries. Explores policy and ethical issues of information access and control including; intellectual property, file sharing, free speech, privacy, and national security.View course details in MyPlan: INFO 350',\n",
       "  'credits': '1-5, max. 15',\n",
       "  'level': 100,\n",
       "  'meets_requirements': ''},\n",
       " '198 ': {'title': 'INFO 200 Intellectual Foundations of Informatics (5) I&S',\n",
       "  'description': 'INFO 371 Advanced Methods in Data Science (5) QSRIntroduces modern methods in applied data science. Emphasizes practical applications and analysis of real-world data through a survey of common techniques in supervised and unsupervised machine learning, and methods for experimental design and causal inference. Students learn functional, procedural, and statistical programming techniques for working with data. Prerequisite: INFO 370.View course details in MyPlan: INFO 371',\n",
       "  'credits': '5',\n",
       "  'level': 200,\n",
       "  'meets_requirements': 'I&S'},\n",
       " '200 ': {'title': 'INFO 201 Technical Foundations (5) QSR',\n",
       "  'description': 'INFO 430 Database Design and Management (5)Perspectives on DBMS theory, architecture, and implementation. Conceptual, logical, physical modeling. Index structures, query optimization and performance tuning, relational algebra, transaction processing, and concurrency control. Operational databases, decision support systems, and data warehousing. Projects in database implementation and integration. Social implications of large distributed database systems. Prerequisite: INFO 330.View course details in MyPlan: INFO 430',\n",
       "  'credits': '5',\n",
       "  'level': 200,\n",
       "  'meets_requirements': 'QSR'},\n",
       " '201 ': {'title': 'INFO 270 Data Reasoning in a Digital World (3) I&S',\n",
       "  'description': 'INFO 448 Mobile Development: Android (5)Application development for Android devices. Covers implementation of mobile apps, including build tools, programming languages and libraries, user interfaces, application architecture, and industry practices. Focuses on harnessing communication systems and sensors specific to mobile platforms, to create interactive, user-focused systems. programming in Java and XML. Prerequisite: CSE 143; and INFO 340 or CSE 154.\\nView course details in MyPlan: INFO 448',\n",
       "  'credits': '3',\n",
       "  'level': 200,\n",
       "  'meets_requirements': 'I&S'},\n",
       " '270 ': {'title': 'INFO 300 Research Methods (5)',\n",
       "  'description': 'INFO 481 Project Management in Informatics (4)Introduces project management principles within the context of Informatics. Provides knowledge that managers need to implement information systems on time and within budget. Concentrates on methods and issues in organizing, planning, and controlling projects, and the use of computer-based project management tools.View course details in MyPlan: INFO 481',\n",
       "  'credits': '5',\n",
       "  'level': 300,\n",
       "  'meets_requirements': ''},\n",
       " '300 ': {'title': 'INFO 310 Information Assurance and Cybersecurity (5) I&S, QSR',\n",
       "  'description': 'INFO 497 Informatics Study Abroad (1-8, max. 18)International seminar, led by Information School faculty or researchers. Addresses a specialized area of informatics. Topics vary. May require language proficiency.View course details in MyPlan: INFO 497',\n",
       "  'credits': '5',\n",
       "  'level': 300,\n",
       "  'meets_requirements': 'I&S, QSR'}}"
      ]
     },
     "execution_count": 50,
     "metadata": {},
     "output_type": "execute_result"
    }
   ],
   "source": [
    "# Create a dictionary where the *keys are course numbers*, and the values are *dictionaries* \n",
    "# with information about that course. Specifically, include the following values: \n",
    "#     - \"title\": title of the course (from above)\n",
    "#     - \"description\": description of the course (from above)\n",
    "#     - \"credits\": can be a string of the number of credits (some are a range)\n",
    "#     - \"level\": 100, 200, 300, or 400 (an *integer*)\n",
    "# Hint: start with an empty dictionary, and use a loop, keeping track of the *index* using the `enumerate` method\n",
    "# Hint: think of creative ways to get the credits/level from your string \n",
    "# the `.find` method can help you find characters in a string\n",
    "credits_list = []\n",
    "course_numbers = []\n",
    "level_list = []\n",
    "requirements_list = []\n",
    "for t in titles:\n",
    "    start_credits = t.find('(')\n",
    "    end_credits = t.find(')')\n",
    "    credits_list.append(t[start_credits+1:end_credits])\n",
    "    course_numbers.append(t[5:9])\n",
    "    level_list.append(int(t[5:6]+ \"00\"))\n",
    "    requirements_list.append(t[end_credits + 2:])\n",
    "\n",
    "course_dicts = []\n",
    "for i in range (1,9):\n",
    "    course_dicts.append({\"title\":titles[i], \"description\":descriptions[i], \"credits\":credits_list[i], \"level\":level_list[i], \"meets_requirements\":requirements_list[i]})\n",
    "final_dict = dict(zip(course_numbers, course_dicts))\n",
    "final_dict           \n"
   ]
  },
  {
   "cell_type": "markdown",
   "metadata": {},
   "source": [
    "## Asking questions of the data\n",
    "Now we can filter the dataset to ask questions of interest"
   ]
  },
  {
   "cell_type": "code",
   "execution_count": 51,
   "metadata": {},
   "outputs": [
    {
     "data": {
      "text/plain": [
       "16"
      ]
     },
     "execution_count": 51,
     "metadata": {},
     "output_type": "execute_result"
    }
   ],
   "source": [
    "# How many courses are 300 level courses?\n",
    "# Hint: use a list comprehension! \n",
    "l = [p for p in level_list if p == 300]\n",
    "len(l)"
   ]
  },
  {
   "cell_type": "code",
   "execution_count": 52,
   "metadata": {},
   "outputs": [],
   "source": [
    "# Write a function that takes in your courses object and a course level (100, 200, etc.) and \n",
    "# returns all of the *course titles* of courses that are that level\n",
    "\n",
    "# Make sure to use a doc string to document your function\n",
    "def find_level(obj, level):\n",
    "    vals = obj.values()\n",
    "    return [v['title'] for v in vals if v['level'] == level]\n",
    "# Make sure to use a doc string to document your function"
   ]
  },
  {
   "cell_type": "code",
   "execution_count": 53,
   "metadata": {},
   "outputs": [
    {
     "name": "stdout",
     "output_type": "stream",
     "text": [
      "['INFO 300 Research Methods (5)', 'INFO 310 Information Assurance and Cybersecurity (5) I&S, QSR']\n"
     ]
    }
   ],
   "source": [
    "# Demonstrate that your function works by passing in the `courses` object and a course level\n",
    "print(find_level(final_dict, 300))"
   ]
  },
  {
   "cell_type": "code",
   "execution_count": null,
   "metadata": {},
   "outputs": [],
   "source": []
  }
 ],
 "metadata": {
  "kernelspec": {
   "display_name": "Python 3",
   "language": "python",
   "name": "python3"
  },
  "language_info": {
   "codemirror_mode": {
    "name": "ipython",
    "version": 3
   },
   "file_extension": ".py",
   "mimetype": "text/x-python",
   "name": "python",
   "nbconvert_exporter": "python",
   "pygments_lexer": "ipython3",
   "version": "3.7.0"
  }
 },
 "nbformat": 4,
 "nbformat_minor": 2
}
