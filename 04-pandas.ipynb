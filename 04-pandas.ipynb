{
 "cells": [
  {
   "cell_type": "markdown",
   "metadata": {},
   "source": [
    "# Pandas Basics\n",
    "In python, the `pandas` package is the most popular data-frame (i.e., 2-dimensional) manipulation framework. You can think of it like `dplyr` for python. This notebook will walk you through some of the basics of working with dataframes. As you complete this notebook, I **strongly suggest** that you read [this chapter](https://jakevdp.github.io/PythonDataScienceHandbook/03.00-introduction-to-pandas.html) in the _Python Data Science Handbook_, which describes the package in detail (you will need to read it to identify the appropriate syntax)."
   ]
  },
  {
   "cell_type": "markdown",
   "metadata": {},
   "source": [
    "## Creating DataFrames\n",
    "Let's create a dataframe representing 1000 houses that has the following columns:\n",
    "- `house_id`: This should be `\"house_N\"`, where `N` is the house number (i.e., `house_1`)\n",
    "- `neighborhood`: There should be 5 neighborhoods, `\"a\"` through `\"e\"` (200 of each)\n",
    "- `price_2010`: The price (in USD) of the house in 2010 (can be _float_)\n",
    "- `price_2018`: The price (in USD) of the house in 2010 (can be _float_)\n",
    "\n",
    "This [section](https://jakevdp.github.io/PythonDataScienceHandbook/03.01-introducing-pandas-objects.html#Constructing-DataFrame-objects) may be helpful to review."
   ]
  },
  {
   "cell_type": "code",
   "execution_count": 1,
   "metadata": {},
   "outputs": [],
   "source": [
    "# Import the pandas and numpy packages (as pd and np, respectively)\n",
    "import pandas as pd\n",
    "import numpy as np"
   ]
  },
  {
   "cell_type": "code",
   "execution_count": 2,
   "metadata": {},
   "outputs": [],
   "source": [
    "# Create a _list_ of houses (\"house_N\") 1 through 1000 \n",
    "# (hint: use a list comprehension)\n",
    "houses = [\"house_\" + str(i) for i in range(1, 1001)]\n",
    "\n",
    "# houses"
   ]
  },
  {
   "cell_type": "code",
   "execution_count": 3,
   "metadata": {},
   "outputs": [],
   "source": [
    "# Create a list of neighborhoods `a` thorugh `e` that is 1000 elements long. Hint: *multiply* a list by 200\n",
    "neighborhoods = ['a', 'b', 'c', 'd', 'e'] * 200"
   ]
  },
  {
   "cell_type": "code",
   "execution_count": 4,
   "metadata": {},
   "outputs": [],
   "source": [
    "# Creaet a list of 1000 home prices (for the year 2010) that range uniformly from 50000 to 400000 using np.random\n",
    "# numpy.random?\n",
    "# prices_2010 = np.random.randint(50000, 400000, size=1000)\n",
    "prices_2010 = np.random.uniform(50000, 400000, size=1000)"
   ]
  },
  {
   "cell_type": "code",
   "execution_count": 5,
   "metadata": {},
   "outputs": [],
   "source": [
    "# Create a list of 1000 home prices (for the year 2018) by multiplying each 2010 price by a (different) random number\n",
    "# The number should be drawn randomly from a normal distribution with mean 1.5 and standard deviation .05\n",
    "prices_2018 = np.random.normal(1.5, 0.05, 1000) * prices_2010"
   ]
  },
  {
   "cell_type": "code",
   "execution_count": 6,
   "metadata": {},
   "outputs": [],
   "source": [
    "# Create a dataframe `houses` with each list above as a column. Use the pd.DataFrame() function\n",
    "house_data = pd.DataFrame(data={ \n",
    "    'houses':houses,\n",
    "    'neighborhoods':neighborhoods,\n",
    "    'prices_2010':prices_2010,\n",
    "    'prices_2018':prices_2018\n",
    "})\n",
    "#house_data"
   ]
  },
  {
   "cell_type": "code",
   "execution_count": 7,
   "metadata": {},
   "outputs": [],
   "source": [
    "# Write your `houses` dataframe to a .csv file \"houses.csv\", excluding row numbers\n",
    "house_data.to_csv(\"houses.csv\", index=False)"
   ]
  },
  {
   "cell_type": "markdown",
   "metadata": {},
   "source": [
    "# Accessing DataFrames\n",
    "In this section, you'll extract and compute information of interest using dataframe **properties** and **methods**. I suggest you review [this section](https://jakevdp.github.io/PythonDataScienceHandbook/03.02-data-indexing-and-selection.html) as you move through the following prompts. "
   ]
  },
  {
   "cell_type": "code",
   "execution_count": 8,
   "metadata": {},
   "outputs": [
    {
     "data": {
      "text/plain": [
       "653649.2078148773"
      ]
     },
     "execution_count": 8,
     "metadata": {},
     "output_type": "execute_result"
    }
   ],
   "source": [
    "# What is the _shape_ of the dataframe?\n",
    "house_data.shape\n",
    "house_data.prices_2018.max()"
   ]
  },
  {
   "cell_type": "code",
   "execution_count": 9,
   "metadata": {},
   "outputs": [
    {
     "data": {
      "text/plain": [
       "653649.2078148773"
      ]
     },
     "execution_count": 9,
     "metadata": {},
     "output_type": "execute_result"
    }
   ],
   "source": [
    "# What is the maximum house price in 2018 (hint: use the `.max()` method)\n",
    "house_data.prices_2018.max()"
   ]
  },
  {
   "cell_type": "code",
   "execution_count": 10,
   "metadata": {},
   "outputs": [
    {
     "data": {
      "text/html": [
       "<div>\n",
       "<style scoped>\n",
       "    .dataframe tbody tr th:only-of-type {\n",
       "        vertical-align: middle;\n",
       "    }\n",
       "\n",
       "    .dataframe tbody tr th {\n",
       "        vertical-align: top;\n",
       "    }\n",
       "\n",
       "    .dataframe thead th {\n",
       "        text-align: right;\n",
       "    }\n",
       "</style>\n",
       "<table border=\"1\" class=\"dataframe\">\n",
       "  <thead>\n",
       "    <tr style=\"text-align: right;\">\n",
       "      <th></th>\n",
       "      <th>prices_2010</th>\n",
       "      <th>prices_2018</th>\n",
       "    </tr>\n",
       "  </thead>\n",
       "  <tbody>\n",
       "    <tr>\n",
       "      <th>count</th>\n",
       "      <td>1000.000000</td>\n",
       "      <td>1000.000000</td>\n",
       "    </tr>\n",
       "    <tr>\n",
       "      <th>mean</th>\n",
       "      <td>226554.253867</td>\n",
       "      <td>340163.174466</td>\n",
       "    </tr>\n",
       "    <tr>\n",
       "      <th>std</th>\n",
       "      <td>100053.364156</td>\n",
       "      <td>151331.475400</td>\n",
       "    </tr>\n",
       "    <tr>\n",
       "      <th>min</th>\n",
       "      <td>50048.435855</td>\n",
       "      <td>70092.675921</td>\n",
       "    </tr>\n",
       "    <tr>\n",
       "      <th>25%</th>\n",
       "      <td>138924.102580</td>\n",
       "      <td>208880.952470</td>\n",
       "    </tr>\n",
       "    <tr>\n",
       "      <th>50%</th>\n",
       "      <td>222794.732980</td>\n",
       "      <td>334145.627036</td>\n",
       "    </tr>\n",
       "    <tr>\n",
       "      <th>75%</th>\n",
       "      <td>311711.297350</td>\n",
       "      <td>468332.456392</td>\n",
       "    </tr>\n",
       "    <tr>\n",
       "      <th>max</th>\n",
       "      <td>399521.492084</td>\n",
       "      <td>653649.207815</td>\n",
       "    </tr>\n",
       "  </tbody>\n",
       "</table>\n",
       "</div>"
      ],
      "text/plain": [
       "         prices_2010    prices_2018\n",
       "count    1000.000000    1000.000000\n",
       "mean   226554.253867  340163.174466\n",
       "std    100053.364156  151331.475400\n",
       "min     50048.435855   70092.675921\n",
       "25%    138924.102580  208880.952470\n",
       "50%    222794.732980  334145.627036\n",
       "75%    311711.297350  468332.456392\n",
       "max    399521.492084  653649.207815"
      ]
     },
     "execution_count": 10,
     "metadata": {},
     "output_type": "execute_result"
    }
   ],
   "source": [
    "# What are the summary statistics of the dataframe (hint: use the `.describe()` method)\n",
    "house_data.describe()"
   ]
  },
  {
   "cell_type": "code",
   "execution_count": 12,
   "metadata": {},
   "outputs": [
    {
     "data": {
      "text/plain": [
       "350198.27783706324"
      ]
     },
     "execution_count": 12,
     "metadata": {},
     "output_type": "execute_result"
    }
   ],
   "source": [
    "# What was the median house price in 2018 (hint: use the `.median()` method)\n",
    "house_data.prices_2018.median()"
   ]
  },
  {
   "cell_type": "code",
   "execution_count": 13,
   "metadata": {},
   "outputs": [
    {
     "data": {
      "text/html": [
       "<div>\n",
       "<style scoped>\n",
       "    .dataframe tbody tr th:only-of-type {\n",
       "        vertical-align: middle;\n",
       "    }\n",
       "\n",
       "    .dataframe tbody tr th {\n",
       "        vertical-align: top;\n",
       "    }\n",
       "\n",
       "    .dataframe thead th {\n",
       "        text-align: right;\n",
       "    }\n",
       "</style>\n",
       "<table border=\"1\" class=\"dataframe\">\n",
       "  <thead>\n",
       "    <tr style=\"text-align: right;\">\n",
       "      <th></th>\n",
       "      <th>houses</th>\n",
       "      <th>neighborhoods</th>\n",
       "      <th>prices_2010</th>\n",
       "      <th>prices_2018</th>\n",
       "    </tr>\n",
       "  </thead>\n",
       "  <tbody>\n",
       "    <tr>\n",
       "      <th>574</th>\n",
       "      <td>house_575</td>\n",
       "      <td>e</td>\n",
       "      <td>50864.474051</td>\n",
       "      <td>74107.501957</td>\n",
       "    </tr>\n",
       "  </tbody>\n",
       "</table>\n",
       "</div>"
      ],
      "text/plain": [
       "        houses neighborhoods   prices_2010   prices_2018\n",
       "574  house_575             e  50864.474051  74107.501957"
      ]
     },
     "execution_count": 13,
     "metadata": {},
     "output_type": "execute_result"
    }
   ],
   "source": [
    "# In which neighborhood was the cheapest house in 2010?\n",
    "# Hint: you can subset a dataframe using df[df.col == value]\n",
    "house_data[house_data.prices_2018 == house_data.prices_2018.min()]"
   ]
  },
  {
   "cell_type": "markdown",
   "metadata": {},
   "source": [
    "## Aggregating data\n",
    "Just like `dplyr`, pandas has a `groupby` method in which you can _group_ a dataframe by a column of interest, and then _aggregate_ (`agg`) your columns using a given function (i.e., `mean`, `sum`, `median`, etc.). Note, this will create a row `index` (i.e., row name) for your dataframe. See [this section](https://jakevdp.github.io/PythonDataScienceHandbook/03.08-aggregation-and-grouping.html) for details."
   ]
  },
  {
   "cell_type": "code",
   "execution_count": 17,
   "metadata": {},
   "outputs": [
    {
     "data": {
      "text/html": [
       "<div>\n",
       "<style scoped>\n",
       "    .dataframe tbody tr th:only-of-type {\n",
       "        vertical-align: middle;\n",
       "    }\n",
       "\n",
       "    .dataframe tbody tr th {\n",
       "        vertical-align: top;\n",
       "    }\n",
       "\n",
       "    .dataframe thead th {\n",
       "        text-align: right;\n",
       "    }\n",
       "</style>\n",
       "<table border=\"1\" class=\"dataframe\">\n",
       "  <thead>\n",
       "    <tr style=\"text-align: right;\">\n",
       "      <th></th>\n",
       "      <th>prices_2010</th>\n",
       "      <th>prices_2018</th>\n",
       "    </tr>\n",
       "    <tr>\n",
       "      <th>neighborhoods</th>\n",
       "      <th></th>\n",
       "      <th></th>\n",
       "    </tr>\n",
       "  </thead>\n",
       "  <tbody>\n",
       "    <tr>\n",
       "      <th>a</th>\n",
       "      <td>242083.768767</td>\n",
       "      <td>361844.909650</td>\n",
       "    </tr>\n",
       "    <tr>\n",
       "      <th>b</th>\n",
       "      <td>238649.192402</td>\n",
       "      <td>363859.836915</td>\n",
       "    </tr>\n",
       "    <tr>\n",
       "      <th>c</th>\n",
       "      <td>234336.170178</td>\n",
       "      <td>349136.655665</td>\n",
       "    </tr>\n",
       "    <tr>\n",
       "      <th>d</th>\n",
       "      <td>229763.716461</td>\n",
       "      <td>340587.120242</td>\n",
       "    </tr>\n",
       "    <tr>\n",
       "      <th>e</th>\n",
       "      <td>228081.689051</td>\n",
       "      <td>336215.964652</td>\n",
       "    </tr>\n",
       "  </tbody>\n",
       "</table>\n",
       "</div>"
      ],
      "text/plain": [
       "                 prices_2010    prices_2018\n",
       "neighborhoods                              \n",
       "a              242083.768767  361844.909650\n",
       "b              238649.192402  363859.836915\n",
       "c              234336.170178  349136.655665\n",
       "d              229763.716461  340587.120242\n",
       "e              228081.689051  336215.964652"
      ]
     },
     "execution_count": 17,
     "metadata": {},
     "output_type": "execute_result"
    }
   ],
   "source": [
    "# What was the median home price _in each neighborhood_ in each year? \n",
    "# Create a new variable of these values.\n",
    "median_price = house_data.groupby('neighborhoods').median()\n"
   ]
  },
  {
   "cell_type": "code",
   "execution_count": 22,
   "metadata": {},
   "outputs": [
    {
     "name": "stdout",
     "output_type": "stream",
     "text": [
      "prices_2010    238649.192402\n",
      "prices_2018    363859.836915\n",
      "Name: b, dtype: float64\n"
     ]
    }
   ],
   "source": [
    "# Get the prices for neighborhood 'b'. \n",
    "# Note, you can now use the df.loc[rows, columns] to select by row name\n",
    "print(median_price.loc['b',:])"
   ]
  },
  {
   "cell_type": "code",
   "execution_count": null,
   "metadata": {},
   "outputs": [],
   "source": []
  },
  {
   "cell_type": "code",
   "execution_count": null,
   "metadata": {},
   "outputs": [],
   "source": []
  }
 ],
 "metadata": {
  "kernelspec": {
   "display_name": "Python 3",
   "language": "python",
   "name": "python3"
  },
  "language_info": {
   "codemirror_mode": {
    "name": "ipython",
    "version": 3
   },
   "file_extension": ".py",
   "mimetype": "text/x-python",
   "name": "python",
   "nbconvert_exporter": "python",
   "pygments_lexer": "ipython3",
   "version": "3.7.0"
  }
 },
 "nbformat": 4,
 "nbformat_minor": 2
}
