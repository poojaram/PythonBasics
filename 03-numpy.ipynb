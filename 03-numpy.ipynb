{
 "cells": [
  {
   "cell_type": "markdown",
   "metadata": {},
   "source": [
    "# Numpy"
   ]
  },
  {
   "cell_type": "markdown",
   "metadata": {},
   "source": [
    "The `numpy` package (short for _\"numerical python\"_) provides an efficient interface for interacting with arrays of values in python. As you complete this notebook, I **strongly suggest** that you read [this chapter](https://jakevdp.github.io/PythonDataScienceHandbook/02.00-introduction-to-numpy.html) in the _Python Data Science Handbook_, which describes the package in detail (you will need to read it to identify the appropriate syntax). The `numpy` array is at the heart of many data science packages and operations, so understanding how to efficiently compute values using the data type is key to doing data science projects.\n",
    "\n",
    "In this notebook, make sure to both complete all code sections, and answer all questions, such as this one:"
   ]
  },
  {
   "cell_type": "markdown",
   "metadata": {},
   "source": [
    "**Question**: Why might we use NumPy arrays instead of the built-in `array` module in Python?\n",
    "We use Numpy arrays instead of the built-in 'array' module in python because NumPy arrays provide much more efficient storage and data operations as the arrays grow larger in size. \n"
   ]
  },
  {
   "cell_type": "markdown",
   "metadata": {},
   "source": [
    "## Creating Arrays\n",
    "In this section, you'll create arrays using various numpy methods. See [this section](https://jakevdp.github.io/PythonDataScienceHandbook/02.01-understanding-data-types.html#Creating-Arrays-from-Python-Lists) for reference."
   ]
  },
  {
   "cell_type": "code",
   "execution_count": 7,
   "metadata": {},
   "outputs": [],
   "source": [
    "# Import numpy as the conventional \"np\"\n",
    "import numpy as np"
   ]
  },
  {
   "cell_type": "code",
   "execution_count": 8,
   "metadata": {},
   "outputs": [],
   "source": [
    "# Create a NumPy array with 5 integers in it.\n",
    "array = np.array([1,2,3,4,5])\n",
    "# np.linspace, np.arrange, np.random"
   ]
  },
  {
   "cell_type": "code",
   "execution_count": 9,
   "metadata": {},
   "outputs": [],
   "source": [
    "# Create an array of 5 zeros, specifying the data type as \"int\"\n",
    "zeroarr = np.array([0, 0, 0, 0, 0], dtype='int')"
   ]
  },
  {
   "cell_type": "code",
   "execution_count": 10,
   "metadata": {},
   "outputs": [
    {
     "name": "stdout",
     "output_type": "stream",
     "text": [
      "[1, 3, 5, 7, 9, 11, 13, 15, 17, 19, 21, 23, 25, 27, 29, 31, 33, 35, 37, 39, 41, 43, 45, 47, 49]\n"
     ]
    }
   ],
   "source": [
    "# Create an array of all odd integers between 1 and 50.\n",
    "odd = [i for i in np.arange(1,51,2)]\n",
    "\n",
    "print(odd)"
   ]
  },
  {
   "cell_type": "code",
   "execution_count": 11,
   "metadata": {},
   "outputs": [
    {
     "name": "stdout",
     "output_type": "stream",
     "text": [
      "[0.0, 0.1, 0.2, 0.30000000000000004, 0.4, 0.5, 0.6000000000000001, 0.7000000000000001, 0.8, 0.9, 1.0, 1.1, 1.2000000000000002, 1.3, 1.4000000000000001, 1.5, 1.6, 1.7000000000000002, 1.8, 1.9000000000000001, 2.0, 2.1, 2.2, 2.3000000000000003, 2.4000000000000004, 2.5, 2.6, 2.7, 2.8000000000000003, 2.9000000000000004, 3.0, 3.1, 3.2, 3.3000000000000003, 3.4000000000000004, 3.5, 3.6, 3.7, 3.8000000000000003, 3.9000000000000004, 4.0, 4.1000000000000005, 4.2, 4.3, 4.4, 4.5, 4.6000000000000005, 4.7, 4.800000000000001, 4.9, 5.0, 5.1000000000000005, 5.2, 5.300000000000001, 5.4, 5.5, 5.6000000000000005, 5.7, 5.800000000000001, 5.9, 6.0, 6.1000000000000005, 6.2, 6.300000000000001, 6.4, 6.5, 6.6000000000000005, 6.7, 6.800000000000001, 6.9, 7.0, 7.1000000000000005, 7.2, 7.300000000000001, 7.4, 7.5, 7.6000000000000005, 7.7, 7.800000000000001, 7.9, 8.0, 8.1, 8.200000000000001, 8.3, 8.4, 8.5, 8.6, 8.700000000000001, 8.8, 8.9, 9.0, 9.1, 9.200000000000001, 9.3, 9.4, 9.5, 9.600000000000001, 9.700000000000001, 9.8, 9.9, 10.0]\n"
     ]
    }
   ],
   "source": [
    "# Create an array of 101 values that are evenly spaced between 0 and 10 (i.e., 0, .1, .2....., 9.9, 10)\n",
    "arr2 = [i for i in np.arange(0,10.1,0.1)]\n",
    "\n",
    "print(arr2)"
   ]
  },
  {
   "cell_type": "code",
   "execution_count": 12,
   "metadata": {},
   "outputs": [
    {
     "name": "stdout",
     "output_type": "stream",
     "text": [
      "[ 98.36247882  98.5444068  102.6875241  103.9036032  113.73417147\n",
      " 102.68200029 101.53802619 107.24819681  97.5204911  100.03613634]\n"
     ]
    }
   ],
   "source": [
    "# Create an array of 10 normally distributed values with a mean of 100 and a standard deviation of 5.\n",
    "mu, sigma = 100, 5 # mean and standard deviation\n",
    "s = np.random.normal(mu, sigma, 10)\n",
    "print(s)"
   ]
  },
  {
   "cell_type": "markdown",
   "metadata": {},
   "source": [
    "**Question**: How many data types can one NumPy array contain? How many can a list contain?\n",
    "\n",
    "One Numpy array and list can contain many data types and Numpy array can contain many more data types than list array."
   ]
  },
  {
   "cell_type": "markdown",
   "metadata": {},
   "source": [
    "## Accessing and Slicing Arrays"
   ]
  },
  {
   "cell_type": "markdown",
   "metadata": {},
   "source": [
    "**Question**: What number does the indexing for a NumPy array start at?\n",
    "\n",
    "0"
   ]
  },
  {
   "cell_type": "code",
   "execution_count": 7,
   "metadata": {},
   "outputs": [],
   "source": [
    "# Using your array of random values, access the element in the 3rd position in two ways: \n",
    "# 1) using positive indices \n",
    "print(ran_arr[3])\n",
    "# 2) using negative indices.\n",
    "print(ran_arr[-2])"
   ]
  },
  {
   "cell_type": "markdown",
   "metadata": {},
   "source": [
    "**Question**: What is array slicing? Are all three arguments (start, stop, step) required to use it? \n",
    "\n",
    "slicing extends Python’s basic concept of slicing to N dimensions. Basic slicing is also initiated if the selection object is any non-ndarray sequence (such as a list) containing slice objects.No it does not require all three arguments for it to be used. THere are some of the ways it can be used:\n",
    "a[start:end] # items start through end-1\n",
    "a[start:]    # items start through the rest of the array\n",
    "a[:end]      # items from the beginning through end-1\n",
    "a[:]         # a copy of the whole array\n"
   ]
  },
  {
   "cell_type": "code",
   "execution_count": 8,
   "metadata": {},
   "outputs": [],
   "source": [
    "# Create and store a one dimensional array with the integers 0-9. \n",
    "# Use a built in functionality of NumPy instead of specifying each number individually.\n",
    "x = np.arange(10)\n",
    "\n",
    "print(x)"
   ]
  },
  {
   "cell_type": "code",
   "execution_count": 9,
   "metadata": {},
   "outputs": [],
   "source": [
    "# Using slicing to print out a subarray of the previous array with every 3rd element in it.\n",
    "print(x[::3])"
   ]
  },
  {
   "cell_type": "markdown",
   "metadata": {},
   "source": [
    "**Question**: Subarrays are \"no-copy\" views of an original array. If you want a slice that you can modify without the modification of the slice changing an original array, what can you do?\n",
    "\n",
    "Just as we can use square brackets to access individual array elements, we can also use them to access subarrays with the slice notation, marked by the colon (:) character. The NumPy slicing syntax follows that of the standard Python list; to access a slice of an array x, use this:\n",
    "x[start:stop:step]\n",
    "\n"
   ]
  },
  {
   "cell_type": "markdown",
   "metadata": {},
   "source": [
    "# Computation on NumPy Arrays"
   ]
  },
  {
   "cell_type": "markdown",
   "metadata": {},
   "source": [
    "**Question**: Can you use basic arithmetic operators on NumPy arrays?\n",
    "\n",
    "yes."
   ]
  },
  {
   "cell_type": "code",
   "execution_count": 14,
   "metadata": {},
   "outputs": [
    {
     "name": "stdout",
     "output_type": "stream",
     "text": [
      "[6 4 3 8 4]\n"
     ]
    }
   ],
   "source": [
    "# Create an array of 5 values, then add the scaler \"1\" to the array\n",
    "arr = np.array([5, 3, 2, 7, 3])\n",
    "arr+=1\n",
    "\n",
    "print(arr)"
   ]
  },
  {
   "cell_type": "code",
   "execution_count": 16,
   "metadata": {},
   "outputs": [
    {
     "data": {
      "text/plain": [
       "array([1.79175947, 1.38629436, 1.09861229, 2.07944154, 1.38629436])"
      ]
     },
     "execution_count": 16,
     "metadata": {},
     "output_type": "execute_result"
    }
   ],
   "source": [
    "# Take the __natural log__ (a logarithm to the base e, which is about 2.7182) \n",
    "# of all values in an any one dimensional array.\n",
    "arr_log = np.log(arr)\n",
    "arr_log"
   ]
  },
  {
   "cell_type": "code",
   "execution_count": 19,
   "metadata": {},
   "outputs": [
    {
     "name": "stdout",
     "output_type": "stream",
     "text": [
      "3\n",
      "8\n",
      "1.7888543819998317\n",
      "5.0\n",
      "3.2\n"
     ]
    }
   ],
   "source": [
    "# Using the built in methods for a numpy array, compute the min, max, standard deviaion, mean, and variance\n",
    "# of your array\n",
    "print(np.min(arr))\n",
    "print(np.max(arr))\n",
    "print(np.std(arr))\n",
    "print(np.mean(arr))\n",
    "print(np.var(arr))"
   ]
  },
  {
   "cell_type": "markdown",
   "metadata": {},
   "source": [
    "# Comparison operators"
   ]
  },
  {
   "cell_type": "markdown",
   "metadata": {},
   "source": [
    "**Question**: How are the letter-based `and` and `or` operators and the `|` and `&` operators different in Python?\n",
    "\n",
    "logical operators 'and' and 'or are used when making bitwise comparison and the logical operators '|' and '&' are used for element wise comparison."
   ]
  },
  {
   "cell_type": "code",
   "execution_count": 41,
   "metadata": {},
   "outputs": [
    {
     "data": {
      "text/plain": [
       "array([0. , 0.2, 0.4, 0.6, 0.8, 1.1, 1.3, 1.5, 1.7, 1.9, 2.1, 2.3, 2.5,\n",
       "       2.7, 2.9, 3.2, 3.4, 3.6, 3.8, 4. ])"
      ]
     },
     "execution_count": 41,
     "metadata": {},
     "output_type": "execute_result"
    }
   ],
   "source": [
    "# Make a one dimensional numpy array with 20 random values between 0.0 and 4.0 to represent student grades in a course. \n",
    "# Then, round the values so that there is on one decimal place\n",
    "\n",
    "array = np.linspace(0.0,4.0,20)\n",
    "array = np.round(array,1)\n",
    "array"
   ]
  },
  {
   "cell_type": "code",
   "execution_count": 42,
   "metadata": {},
   "outputs": [
    {
     "data": {
      "text/plain": [
       "16"
      ]
     },
     "execution_count": 42,
     "metadata": {},
     "output_type": "execute_result"
    }
   ],
   "source": [
    "# How many of the students' grades are not between a 3.0 and 3.8?\n",
    "# Hint: use a comparion operator to return true/false values, and then sum() them\n",
    "count = (array < 3.0) | (array > 3.8)\n",
    "\n",
    "countval = sum(count)\n",
    "\n",
    "countval\n"
   ]
  },
  {
   "cell_type": "code",
   "execution_count": 43,
   "metadata": {},
   "outputs": [
    {
     "data": {
      "text/plain": [
       "2"
      ]
     },
     "execution_count": 43,
     "metadata": {},
     "output_type": "execute_result"
    }
   ],
   "source": [
    "# How many of the students got a grade between 3.0 and 3.5?\n",
    "\n",
    "count1 = (array > 3.0) & (array < 3.5)\n",
    "count1val = sum(count1)\n",
    "count1val"
   ]
  },
  {
   "cell_type": "code",
   "execution_count": 44,
   "metadata": {},
   "outputs": [
    {
     "data": {
      "text/plain": [
       "1"
      ]
     },
     "execution_count": 44,
     "metadata": {},
     "output_type": "execute_result"
    }
   ],
   "source": [
    "# Did any students get (exactly) a 3.8?\n",
    "count2 = (array == 3.8)\n",
    "\n",
    "count2val = sum(count2)\n",
    "count2val\n"
   ]
  },
  {
   "cell_type": "code",
   "execution_count": 51,
   "metadata": {},
   "outputs": [
    {
     "name": "stdout",
     "output_type": "stream",
     "text": [
      "[3.2 3.4]\n"
     ]
    }
   ],
   "source": [
    "# Using a boolean array as a mask, select all of the grades that are between 3.0 and 3.5.\n",
    "count1 = (array > 3.0) & (array < 3.5)\n",
    "print(array[count1])\n"
   ]
  },
  {
   "cell_type": "code",
   "execution_count": null,
   "metadata": {},
   "outputs": [],
   "source": []
  }
 ],
 "metadata": {
  "kernelspec": {
   "display_name": "Python 3",
   "language": "python",
   "name": "python3"
  },
  "language_info": {
   "codemirror_mode": {
    "name": "ipython",
    "version": 3
   },
   "file_extension": ".py",
   "mimetype": "text/x-python",
   "name": "python",
   "nbconvert_exporter": "python",
   "pygments_lexer": "ipython3",
   "version": "3.7.0"
  }
 },
 "nbformat": 4,
 "nbformat_minor": 2
}
